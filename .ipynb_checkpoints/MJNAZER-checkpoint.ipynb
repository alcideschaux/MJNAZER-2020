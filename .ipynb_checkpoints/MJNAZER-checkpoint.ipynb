{
 "cells": [
  {
   "cell_type": "markdown",
   "metadata": {},
   "source": [
    "# Lactancia materna, tipo de parto y enfermedades autoinmunes en adultos que acuden a consultas en una clínica privada"
   ]
  },
  {
   "cell_type": "markdown",
   "metadata": {},
   "source": [
    "## Objetivo general\n",
    "Determinar la frecuencia de lactancia materna, el tipo de parto y de enfermedades autoinmunes en adultos de ambos sexos que asisten a consultas médicas y nutricionales en la Clínica Masquelier Medicina Integrativa durante el mes de enero a setiembre de 2020."
   ]
  },
  {
   "cell_type": "markdown",
   "metadata": {},
   "source": [
    "## Objetivos específicos\n",
    "1. Caracterizar a la muestra según datos demográficos\n",
    "2. Identificar los tipos de partos\n",
    "3. Describir el tipo de alimentación recibida durante la infancia\n",
    "4. Determinar el tipo de enfermedades autoinmunes adquiridas\n",
    "5. Explorar relación entre el tipo de parto, la lactancia materna y las enfermedades autoinmunes adquiridas"
   ]
  },
  {
   "cell_type": "code",
   "execution_count": 47,
   "metadata": {},
   "outputs": [],
   "source": [
    "# Librerías\n",
    "import numpy as np\n",
    "import pandas as pd\n",
    "import matplotlib.pyplot as plt\n",
    "import seaborn as sns\n",
    "from scipy import stats\n",
    "\n",
    "# Configuraciones globales\n",
    "sns.set_theme(rc={'figure.figsize':[12,8]}, font_scale=1.25)"
   ]
  },
  {
   "cell_type": "code",
   "execution_count": 48,
   "metadata": {},
   "outputs": [],
   "source": [
    "# Importando datos\n",
    "df = pd.read_excel('RECOLECCION DE DATOS.xls')"
   ]
  },
  {
   "cell_type": "code",
   "execution_count": 49,
   "metadata": {},
   "outputs": [
    {
     "data": {
      "text/plain": [
       "(401, 23)"
      ]
     },
     "execution_count": 49,
     "metadata": {},
     "output_type": "execute_result"
    }
   ],
   "source": [
    "# Núm. casos y de variables\n",
    "df.shape"
   ]
  },
  {
   "cell_type": "code",
   "execution_count": 50,
   "metadata": {},
   "outputs": [
    {
     "name": "stdout",
     "output_type": "stream",
     "text": [
      "<class 'pandas.core.frame.DataFrame'>\n",
      "RangeIndex: 401 entries, 0 to 400\n",
      "Data columns (total 23 columns):\n",
      " #   Column                       Non-Null Count  Dtype \n",
      "---  ------                       --------------  ----- \n",
      " 0   Unnamed: 0                   401 non-null    int64 \n",
      " 1   SUJETO                       401 non-null    object\n",
      " 2   FECHA DE NAC                 401 non-null    object\n",
      " 3   EDAD                         401 non-null    int64 \n",
      " 4   SEXO                         401 non-null    object\n",
      " 5   VIA DE NACIMIENTO            401 non-null    object\n",
      " 6   Lact. Si                     396 non-null    object\n",
      " 7   Lact. No                     8 non-null      object\n",
      " 8   TIEMPO DE LACTANCIA          401 non-null    object\n",
      " 9   TIEMPO DE LACTANCIA          337 non-null    object\n",
      " 10  DX ENF AUTOINM               401 non-null    object\n",
      " 11  HIPOT                        401 non-null    object\n",
      " 12  CELIAQUIA                    401 non-null    object\n",
      " 13  ARTRITIS                     401 non-null    object\n",
      " 14  OTRAS PATOLOGIAS ASOCIADAS   333 non-null    object\n",
      " 15  RINITIS ALERGICA             106 non-null    object\n",
      " 16  SII                          128 non-null    object\n",
      " 17  SOP                          40 non-null     object\n",
      " 18  OBS                          125 non-null    object\n",
      " 19  CONSUMO DE ATB               401 non-null    object\n",
      " 20  SINTOMAS GASTRICOS           397 non-null    object\n",
      " 21  SINTOMAS SIST INMUNOLOGICO   396 non-null    object\n",
      " 22  sobrepeso u obesidad         18 non-null     object\n",
      "dtypes: int64(2), object(21)\n",
      "memory usage: 72.2+ KB\n"
     ]
    }
   ],
   "source": [
    "# Características de las variables\n",
    "df.info()"
   ]
  },
  {
   "cell_type": "code",
   "execution_count": 51,
   "metadata": {},
   "outputs": [
    {
     "data": {
      "text/html": [
       "<div>\n",
       "<style scoped>\n",
       "    .dataframe tbody tr th:only-of-type {\n",
       "        vertical-align: middle;\n",
       "    }\n",
       "\n",
       "    .dataframe tbody tr th {\n",
       "        vertical-align: top;\n",
       "    }\n",
       "\n",
       "    .dataframe thead th {\n",
       "        text-align: right;\n",
       "    }\n",
       "</style>\n",
       "<table border=\"1\" class=\"dataframe\">\n",
       "  <thead>\n",
       "    <tr style=\"text-align: right;\">\n",
       "      <th></th>\n",
       "      <th>Unnamed: 0</th>\n",
       "      <th>SUJETO</th>\n",
       "      <th>FECHA DE NAC</th>\n",
       "      <th>EDAD</th>\n",
       "      <th>SEXO</th>\n",
       "      <th>VIA DE NACIMIENTO</th>\n",
       "      <th>Lact. Si</th>\n",
       "      <th>Lact. No</th>\n",
       "      <th>TIEMPO DE LACTANCIA</th>\n",
       "      <th>TIEMPO DE LACTANCIA</th>\n",
       "      <th>...</th>\n",
       "      <th>ARTRITIS</th>\n",
       "      <th>OTRAS PATOLOGIAS ASOCIADAS</th>\n",
       "      <th>RINITIS ALERGICA</th>\n",
       "      <th>SII</th>\n",
       "      <th>SOP</th>\n",
       "      <th>OBS</th>\n",
       "      <th>CONSUMO DE ATB</th>\n",
       "      <th>SINTOMAS GASTRICOS</th>\n",
       "      <th>SINTOMAS SIST INMUNOLOGICO</th>\n",
       "      <th>sobrepeso u obesidad</th>\n",
       "    </tr>\n",
       "  </thead>\n",
       "  <tbody>\n",
       "    <tr>\n",
       "      <th>0</th>\n",
       "      <td>1</td>\n",
       "      <td>SARA DE OLIVEIRA</td>\n",
       "      <td>1960-01-28 00:00:00</td>\n",
       "      <td>60</td>\n",
       "      <td>FEM</td>\n",
       "      <td>VAGINAL</td>\n",
       "      <td>SI</td>\n",
       "      <td>NaN</td>\n",
       "      <td>MAS DE 1 AÑO</td>\n",
       "      <td>MAS DE 6 MESES</td>\n",
       "      <td>...</td>\n",
       "      <td>NO</td>\n",
       "      <td>HIPERCOLESTE, DEPRES, ANDIEDAD</td>\n",
       "      <td>NaN</td>\n",
       "      <td>NaN</td>\n",
       "      <td>NaN</td>\n",
       "      <td>-</td>\n",
       "      <td>SI</td>\n",
       "      <td>NAUSEAS, INT.AL, MAL ALIENTO, AFTAS</td>\n",
       "      <td>DOLORES ARTIC. MANOS, PIES</td>\n",
       "      <td>NaN</td>\n",
       "    </tr>\n",
       "    <tr>\n",
       "      <th>1</th>\n",
       "      <td>2</td>\n",
       "      <td>NATALIA CARPINELLI</td>\n",
       "      <td>1977-08-27 00:00:00</td>\n",
       "      <td>43</td>\n",
       "      <td>FEM</td>\n",
       "      <td>CESAREA</td>\n",
       "      <td>SI</td>\n",
       "      <td>NaN</td>\n",
       "      <td>3 MESES</td>\n",
       "      <td>MENOS DE 6 MESES</td>\n",
       "      <td>...</td>\n",
       "      <td>NO</td>\n",
       "      <td>ANSIEDAD, GASTRITIS</td>\n",
       "      <td>NaN</td>\n",
       "      <td>NaN</td>\n",
       "      <td>NaN</td>\n",
       "      <td>-</td>\n",
       "      <td>NO ESPEC</td>\n",
       "      <td>GLUTEN, LACTOSA</td>\n",
       "      <td>DOLORES ARTIC. MANOS, PIES</td>\n",
       "      <td>NaN</td>\n",
       "    </tr>\n",
       "    <tr>\n",
       "      <th>2</th>\n",
       "      <td>3</td>\n",
       "      <td>NOELIA BUTTICE</td>\n",
       "      <td>1975-07-28 00:00:00</td>\n",
       "      <td>44</td>\n",
       "      <td>FEM</td>\n",
       "      <td>VAGINAL</td>\n",
       "      <td>SI</td>\n",
       "      <td>NaN</td>\n",
       "      <td>MENOS DE 1 MES</td>\n",
       "      <td>MENOS DE 6 MESES</td>\n",
       "      <td>...</td>\n",
       "      <td>NO</td>\n",
       "      <td>RINITIS ALERGICA, GASTRITIS, SII</td>\n",
       "      <td>SI</td>\n",
       "      <td>SI</td>\n",
       "      <td>NaN</td>\n",
       "      <td>-</td>\n",
       "      <td>SI</td>\n",
       "      <td>AFTAS, MAL ALIENTO, DOLOR ABD</td>\n",
       "      <td>NO ESPECIFICA</td>\n",
       "      <td>NaN</td>\n",
       "    </tr>\n",
       "    <tr>\n",
       "      <th>3</th>\n",
       "      <td>4</td>\n",
       "      <td>MA. TERESA CESPEDES</td>\n",
       "      <td>1960-02-23 00:00:00</td>\n",
       "      <td>60</td>\n",
       "      <td>FEM</td>\n",
       "      <td>VAGINAL</td>\n",
       "      <td>SI</td>\n",
       "      <td>NaN</td>\n",
       "      <td>MAS DE 1 AÑO</td>\n",
       "      <td>MAS DE 6 MESES</td>\n",
       "      <td>...</td>\n",
       "      <td>NO</td>\n",
       "      <td>DEPRESION, SINDR. PANICO, ANSIED</td>\n",
       "      <td>NaN</td>\n",
       "      <td>NaN</td>\n",
       "      <td>NaN</td>\n",
       "      <td>-</td>\n",
       "      <td>SI</td>\n",
       "      <td>NaN</td>\n",
       "      <td>DOLORES ARTIC. MANOS, PIES, OTROS</td>\n",
       "      <td>NaN</td>\n",
       "    </tr>\n",
       "    <tr>\n",
       "      <th>4</th>\n",
       "      <td>5</td>\n",
       "      <td>ENRIQUE ARRUA</td>\n",
       "      <td>1977-05-08 00:00:00</td>\n",
       "      <td>42</td>\n",
       "      <td>MASC</td>\n",
       "      <td>CESAREA</td>\n",
       "      <td>SI</td>\n",
       "      <td>NaN</td>\n",
       "      <td>MAS DE 1 AÑO</td>\n",
       "      <td>MAS DE 6 MESES</td>\n",
       "      <td>...</td>\n",
       "      <td>NO</td>\n",
       "      <td>RINITIS ALERGICA, GASTRITIS, SII</td>\n",
       "      <td>SI</td>\n",
       "      <td>SI</td>\n",
       "      <td>NaN</td>\n",
       "      <td>-</td>\n",
       "      <td>SI</td>\n",
       "      <td>LACTOSA</td>\n",
       "      <td>NaN</td>\n",
       "      <td>NaN</td>\n",
       "    </tr>\n",
       "  </tbody>\n",
       "</table>\n",
       "<p>5 rows × 23 columns</p>\n",
       "</div>"
      ],
      "text/plain": [
       "   Unnamed: 0                SUJETO         FECHA DE NAC  EDAD  SEXO  \\\n",
       "0           1     SARA DE OLIVEIRA   1960-01-28 00:00:00    60   FEM   \n",
       "1           2    NATALIA CARPINELLI  1977-08-27 00:00:00    43   FEM   \n",
       "2           3        NOELIA BUTTICE  1975-07-28 00:00:00    44   FEM   \n",
       "3           4  MA. TERESA CESPEDES   1960-02-23 00:00:00    60   FEM   \n",
       "4           5        ENRIQUE ARRUA   1977-05-08 00:00:00    42  MASC   \n",
       "\n",
       "  VIA DE NACIMIENTO Lact. Si Lact. No  TIEMPO DE LACTANCIA  \\\n",
       "0          VAGINAL        SI       NaN        MAS DE 1 AÑO   \n",
       "1          CESAREA        SI       NaN            3 MESES    \n",
       "2          VAGINAL        SI       NaN     MENOS DE 1 MES    \n",
       "3          VAGINAL        SI       NaN        MAS DE 1 AÑO   \n",
       "4          CESAREA        SI       NaN        MAS DE 1 AÑO   \n",
       "\n",
       "  TIEMPO DE LACTANCIA   ... ARTRITIS       OTRAS PATOLOGIAS ASOCIADAS   \\\n",
       "0       MAS DE 6 MESES  ...       NO    HIPERCOLESTE, DEPRES, ANDIEDAD   \n",
       "1     MENOS DE 6 MESES  ...       NO               ANSIEDAD, GASTRITIS   \n",
       "2     MENOS DE 6 MESES  ...       NO  RINITIS ALERGICA, GASTRITIS, SII   \n",
       "3       MAS DE 6 MESES  ...       NO  DEPRESION, SINDR. PANICO, ANSIED   \n",
       "4       MAS DE 6 MESES  ...       NO  RINITIS ALERGICA, GASTRITIS, SII   \n",
       "\n",
       "  RINITIS ALERGICA  SII  SOP OBS CONSUMO DE ATB  \\\n",
       "0              NaN  NaN  NaN   -            SI    \n",
       "1              NaN  NaN  NaN   -       NO ESPEC   \n",
       "2              SI    SI  NaN   -            SI    \n",
       "3              NaN  NaN  NaN   -            SI    \n",
       "4              SI    SI  NaN   -            SI    \n",
       "\n",
       "                    SINTOMAS GASTRICOS         SINTOMAS SIST INMUNOLOGICO   \\\n",
       "0  NAUSEAS, INT.AL, MAL ALIENTO, AFTAS         DOLORES ARTIC. MANOS, PIES    \n",
       "1                      GLUTEN, LACTOSA         DOLORES ARTIC. MANOS, PIES    \n",
       "2         AFTAS, MAL ALIENTO, DOLOR ABD                     NO ESPECIFICA    \n",
       "3                                   NaN  DOLORES ARTIC. MANOS, PIES, OTROS   \n",
       "4                               LACTOSA                                NaN   \n",
       "\n",
       "  sobrepeso u obesidad  \n",
       "0                  NaN  \n",
       "1                  NaN  \n",
       "2                  NaN  \n",
       "3                  NaN  \n",
       "4                  NaN  \n",
       "\n",
       "[5 rows x 23 columns]"
      ]
     },
     "execution_count": 51,
     "metadata": {},
     "output_type": "execute_result"
    }
   ],
   "source": [
    "# Casos de cabecera\n",
    "df.head()"
   ]
  },
  {
   "cell_type": "markdown",
   "metadata": {},
   "source": [
    "## Análisis estadístico"
   ]
  },
  {
   "cell_type": "markdown",
   "metadata": {},
   "source": [
    "La asociación entre vía de nacimiento, tiempo de lactancia y presencia de enfermedades autoinmumes (incluyendo patología tiroidea, tiroiditis de Hashimoto, enfermedad celíaca y artritis reumatoide) fue evaluada usando la prueba del $\\chi^2$. Las diferencias se consideraron estadísticamente significativas cuando $P<0.05$ para 2 colas de distribución. Los datos fueron analizados en Python versión 3.8 (Anaconda Distribution 2020.07, Anaconda, Inc., Austin, TX), usando las librerías Pandas, NumPy y SciPy para los análisis estadísticos, y las librerias MatPlotLib y SeaBorn para los gráficos."
   ]
  },
  {
   "cell_type": "markdown",
   "metadata": {},
   "source": [
    "## Resultados"
   ]
  },
  {
   "cell_type": "code",
   "execution_count": 94,
   "metadata": {},
   "outputs": [],
   "source": [
    "# Creando una función para plotear gráficos de barras con porcentajes\n",
    "def plot_bar(x, xlab, hue=None):\n",
    "    df.groupby(hue)[x].value_counts(normalize=True).reset_index().pipe((sns.barplot, 'data'), x='index', y=x, hue=hue)\n",
    "    plt.xlabel(xlab, size=16)\n",
    "    plt.ylabel('Porcentaje', size=16)\n",
    "    plt.show()"
   ]
  },
  {
   "cell_type": "markdown",
   "metadata": {},
   "source": [
    "### Objetivo específico núm. 1: Caracterizar a la muestra según datos demográficos"
   ]
  },
  {
   "cell_type": "markdown",
   "metadata": {},
   "source": [
    "#### Distribución según edad"
   ]
  },
  {
   "cell_type": "code",
   "execution_count": 53,
   "metadata": {},
   "outputs": [
    {
     "data": {
      "text/plain": [
       "count    401.0\n",
       "mean      41.6\n",
       "std       14.2\n",
       "min       18.0\n",
       "25%       31.0\n",
       "50%       39.0\n",
       "75%       51.0\n",
       "max       80.0\n",
       "Name: EDAD, dtype: float64"
      ]
     },
     "execution_count": 53,
     "metadata": {},
     "output_type": "execute_result"
    }
   ],
   "source": [
    "df['EDAD'].describe().round(1)"
   ]
  },
  {
   "cell_type": "code",
   "execution_count": 54,
   "metadata": {},
   "outputs": [
    {
     "data": {
      "image/png": "[encoded data removed]",
      "text/plain": [
       "<Figure size 864x576 with 1 Axes>"
      ]
     },
     "metadata": {},
     "output_type": "display_data"
    }
   ],
   "source": [
    "ax = sns.histplot(x='EDAD', data=df)\n",
    "plt.xlabel('Edad, en años', size=16)\n",
    "plt.ylabel('Núm. casos', size=16)\n",
    "plt.show()"
   ]
  },
  {
   "cell_type": "markdown",
   "metadata": {},
   "source": [
    "#### Distribución según sexo"
   ]
  },
  {
   "cell_type": "code",
   "execution_count": 55,
   "metadata": {},
   "outputs": [
    {
     "data": {
      "text/plain": [
       "Femenino     318\n",
       "Masculino     83\n",
       "Name: SEXO, dtype: int64"
      ]
     },
     "execution_count": 55,
     "metadata": {},
     "output_type": "execute_result"
    }
   ],
   "source": [
    "df.replace({'FEM':'Femenino','MASC':'Masculino'}, inplace=True)\n",
    "df['SEXO'].value_counts()"
   ]
  },
  {
   "cell_type": "code",
   "execution_count": 56,
   "metadata": {},
   "outputs": [
    {
     "data": {
      "text/plain": [
       "Femenino     0.79\n",
       "Masculino    0.21\n",
       "Name: SEXO, dtype: float64"
      ]
     },
     "execution_count": 56,
     "metadata": {},
     "output_type": "execute_result"
    }
   ],
   "source": [
    "df['SEXO'].value_counts(normalize=True).round(2)"
   ]
  },
  {
   "cell_type": "code",
   "execution_count": 57,
   "metadata": {},
   "outputs": [
    {
     "data": {
      "image/png": "[encoded data removed]",
      "text/plain": [
       "<Figure size 864x576 with 1 Axes>"
      ]
     },
     "metadata": {},
     "output_type": "display_data"
    }
   ],
   "source": [
    "plot_bar('SEXO', 'Sexo')"
   ]
  },
  {
   "cell_type": "markdown",
   "metadata": {},
   "source": [
    "### Objetivo específico núm. 2: Identificar los tipos de partos"
   ]
  },
  {
   "cell_type": "markdown",
   "metadata": {},
   "source": [
    "#### Distribución según vías de nacimiento"
   ]
  },
  {
   "cell_type": "code",
   "execution_count": 58,
   "metadata": {},
   "outputs": [
    {
     "data": {
      "text/plain": [
       "Vaginal    248\n",
       "Cesárea    146\n",
       "Name: VIA DE NACIMIENTO, dtype: int64"
      ]
     },
     "execution_count": 58,
     "metadata": {},
     "output_type": "execute_result"
    }
   ],
   "source": [
    "df['VIA DE NACIMIENTO'].replace({'VAGINAL ':'Vaginal','CESAREA ':'Cesárea','NO ESPECIFICA':np.nan}, inplace=True)\n",
    "df['VIA DE NACIMIENTO'].value_counts()"
   ]
  },
  {
   "cell_type": "code",
   "execution_count": 59,
   "metadata": {},
   "outputs": [
    {
     "data": {
      "text/plain": [
       "7"
      ]
     },
     "execution_count": 59,
     "metadata": {},
     "output_type": "execute_result"
    }
   ],
   "source": [
    "df['VIA DE NACIMIENTO'].isna().sum()"
   ]
  },
  {
   "cell_type": "code",
   "execution_count": 60,
   "metadata": {},
   "outputs": [
    {
     "data": {
      "text/plain": [
       "Vaginal    0.63\n",
       "Cesárea    0.37\n",
       "Name: VIA DE NACIMIENTO, dtype: float64"
      ]
     },
     "execution_count": 60,
     "metadata": {},
     "output_type": "execute_result"
    }
   ],
   "source": [
    "df['VIA DE NACIMIENTO'].value_counts(normalize=True).round(2)"
   ]
  },
  {
   "cell_type": "code",
   "execution_count": 61,
   "metadata": {},
   "outputs": [
    {
     "data": {
      "image/png": "[encoded data removed]",
      "text/plain": [
       "<Figure size 864x576 with 1 Axes>"
      ]
     },
     "metadata": {},
     "output_type": "display_data"
    }
   ],
   "source": [
    "plot_bar('VIA DE NACIMIENTO', 'Vía de nacimiento')"
   ]
  },
  {
   "cell_type": "markdown",
   "metadata": {},
   "source": [
    "### Objetivo específico núm. 3: Describir el tipo de alimentación recibida durante la infancia"
   ]
  },
  {
   "cell_type": "markdown",
   "metadata": {},
   "source": [
    "#### Distribución de acuerdo a la duración de la lactancia recibida"
   ]
  },
  {
   "cell_type": "code",
   "execution_count": 62,
   "metadata": {},
   "outputs": [
    {
     "data": {
      "text/plain": [
       "6 meses o menos    226\n",
       "Más de 6 meses     111\n",
       "Name: TIEMPO DE LACTANCIA , dtype: int64"
      ]
     },
     "execution_count": 62,
     "metadata": {},
     "output_type": "execute_result"
    }
   ],
   "source": [
    "# Las 4 categorías originales fueron colapsadas a 2 categorías, siguiendo las instrucciones proveídas por los tutores\n",
    "# Las 2 categorías finales incluyen '6 meses o menos' (no mamó + menos de 6 meses + 6 meses) y 'Más de 6 meses' (el resto)\n",
    "\n",
    "df['TIEMPO DE LACTANCIA '].replace({'NO MAMO':'6 meses o menos','MENOS DE 6 MESES':'6 meses o menos','MAS DE 6 MESES':'Más de 6 meses','6 MESES':'6 meses o menos'}, inplace=True)\n",
    "df['TIEMPO DE LACTANCIA '] = df['TIEMPO DE LACTANCIA '].astype('category')\n",
    "df['TIEMPO DE LACTANCIA '].cat.reorder_categories(['6 meses o menos','Más de 6 meses'], inplace=True)\n",
    "df['TIEMPO DE LACTANCIA '].value_counts(sort=False)"
   ]
  },
  {
   "cell_type": "code",
   "execution_count": 63,
   "metadata": {},
   "outputs": [
    {
     "data": {
      "text/plain": [
       "6 meses o menos    0.67\n",
       "Más de 6 meses     0.33\n",
       "Name: TIEMPO DE LACTANCIA , dtype: float64"
      ]
     },
     "execution_count": 63,
     "metadata": {},
     "output_type": "execute_result"
    }
   ],
   "source": [
    "df['TIEMPO DE LACTANCIA '].value_counts(sort=False, normalize=True).round(2)"
   ]
  },
  {
   "cell_type": "code",
   "execution_count": 64,
   "metadata": {},
   "outputs": [
    {
     "data": {
      "text/plain": [
       "64"
      ]
     },
     "execution_count": 64,
     "metadata": {},
     "output_type": "execute_result"
    }
   ],
   "source": [
    "df['TIEMPO DE LACTANCIA '].isna().sum()"
   ]
  },
  {
   "cell_type": "code",
   "execution_count": 65,
   "metadata": {},
   "outputs": [
    {
     "data": {
      "image/png": "[encoded data removed]",
      "text/plain": [
       "<Figure size 864x576 with 1 Axes>"
      ]
     },
     "metadata": {},
     "output_type": "display_data"
    }
   ],
   "source": [
    "plot_bar('TIEMPO DE LACTANCIA ', 'Lactancia materna, duración')"
   ]
  },
  {
   "cell_type": "markdown",
   "metadata": {},
   "source": [
    "### Objetivo específico núm. 4: Determinar el tipo de enfermedades autoinmunes adquiridas"
   ]
  },
  {
   "cell_type": "markdown",
   "metadata": {},
   "source": [
    "#### Enfermedades autoinmunes en general"
   ]
  },
  {
   "cell_type": "code",
   "execution_count": 66,
   "metadata": {},
   "outputs": [
    {
     "data": {
      "text/plain": [
       "Sí    109\n",
       "No    292\n",
       "Name: DX ENF AUTOINM, dtype: int64"
      ]
     },
     "execution_count": 66,
     "metadata": {},
     "output_type": "execute_result"
    }
   ],
   "source": [
    "df['DX ENF AUTOINM'].replace({'SI ':'Sí','NO ':'No'}, inplace=True)\n",
    "df['DX ENF AUTOINM'].value_counts(sort=False)"
   ]
  },
  {
   "cell_type": "code",
   "execution_count": 67,
   "metadata": {},
   "outputs": [
    {
     "data": {
      "text/plain": [
       "Sí    0.27\n",
       "No    0.73\n",
       "Name: DX ENF AUTOINM, dtype: float64"
      ]
     },
     "execution_count": 67,
     "metadata": {},
     "output_type": "execute_result"
    }
   ],
   "source": [
    "df['DX ENF AUTOINM'].value_counts(sort=False, normalize=True).round(2)"
   ]
  },
  {
   "cell_type": "code",
   "execution_count": 68,
   "metadata": {},
   "outputs": [
    {
     "data": {
      "text/plain": [
       "0"
      ]
     },
     "execution_count": 68,
     "metadata": {},
     "output_type": "execute_result"
    }
   ],
   "source": [
    "df['DX ENF AUTOINM'].isna().sum()"
   ]
  },
  {
   "cell_type": "code",
   "execution_count": 69,
   "metadata": {},
   "outputs": [
    {
     "data": {
      "image/png": "[encoded data removed]",
      "text/plain": [
       "<Figure size 864x576 with 1 Axes>"
      ]
     },
     "metadata": {},
     "output_type": "display_data"
    }
   ],
   "source": [
    "plot_bar('DX ENF AUTOINM', 'Diagnóstico de enfermedad autoinmune')"
   ]
  },
  {
   "cell_type": "markdown",
   "metadata": {},
   "source": [
    "#### Enfermedad tiroidea"
   ]
  },
  {
   "cell_type": "code",
   "execution_count": 70,
   "metadata": {},
   "outputs": [
    {
     "data": {
      "text/plain": [
       "Hashimoto           67\n",
       "Hipertiroidismo      4\n",
       "Hipotiroidismo       6\n",
       "Ninguna            324\n",
       "Name: HIPOT , dtype: int64"
      ]
     },
     "execution_count": 70,
     "metadata": {},
     "output_type": "execute_result"
    }
   ],
   "source": [
    "# Siguiendo las indicaciones dadas por los tutores, se consideraron los casos con 'HIPO' como Hashimoto, los casos 'HIPER E HIPO' e 'HIPO PQ' como hipotiroidismo, y el resto similar\n",
    "\n",
    "df['HIPOT '].replace({'NO':'Ninguna','NO ':'Ninguna','HIPO':'Hashimoto','HIPO PQ':'Hipotiroidismo','HIPER':'Hipertiroidismo','HIPER E HIPO':'Hipotiroidismo','HASHIMOTO':'Hashimoto'}, inplace=True)\n",
    "df['HIPOT '] = df['HIPOT '].astype('category')\n",
    "df['HIPOT '].cat.reorder_categories(['Hashimoto','Hipotiroidismo','Hipertiroidismo','Ninguna'])\n",
    "df['HIPOT '].value_counts(sort=False)"
   ]
  },
  {
   "cell_type": "code",
   "execution_count": 71,
   "metadata": {},
   "outputs": [
    {
     "data": {
      "text/plain": [
       "Hashimoto          0.17\n",
       "Hipertiroidismo    0.01\n",
       "Hipotiroidismo     0.01\n",
       "Ninguna            0.81\n",
       "Name: HIPOT , dtype: float64"
      ]
     },
     "execution_count": 71,
     "metadata": {},
     "output_type": "execute_result"
    }
   ],
   "source": [
    "df['HIPOT '].value_counts(sort=False, normalize=True).round(2)"
   ]
  },
  {
   "cell_type": "code",
   "execution_count": 72,
   "metadata": {},
   "outputs": [
    {
     "data": {
      "text/plain": [
       "0"
      ]
     },
     "execution_count": 72,
     "metadata": {},
     "output_type": "execute_result"
    }
   ],
   "source": [
    "df['HIPOT '].isna().sum()"
   ]
  },
  {
   "cell_type": "code",
   "execution_count": 73,
   "metadata": {},
   "outputs": [
    {
     "data": {
      "image/png": "[encoded data removed]",
      "text/plain": [
       "<Figure size 864x576 with 1 Axes>"
      ]
     },
     "metadata": {},
     "output_type": "display_data"
    }
   ],
   "source": [
    "plot_bar('HIPOT ', 'Patología tiroidea')"
   ]
  },
  {
   "cell_type": "markdown",
   "metadata": {},
   "source": [
    "#### Enfermedad Celiaca"
   ]
  },
  {
   "cell_type": "code",
   "execution_count": 74,
   "metadata": {},
   "outputs": [
    {
     "data": {
      "text/plain": [
       "Sí     26\n",
       "No    375\n",
       "Name: CELIAQUIA , dtype: int64"
      ]
     },
     "execution_count": 74,
     "metadata": {},
     "output_type": "execute_result"
    }
   ],
   "source": [
    "df['CELIAQUIA '].replace({'NO':'No','NO ':'No','SI':'Sí','SI ':'Sí'}, inplace=True)\n",
    "df['CELIAQUIA '].value_counts(sort=False)"
   ]
  },
  {
   "cell_type": "code",
   "execution_count": 75,
   "metadata": {},
   "outputs": [
    {
     "data": {
      "text/plain": [
       "Sí    0.06\n",
       "No    0.94\n",
       "Name: CELIAQUIA , dtype: float64"
      ]
     },
     "execution_count": 75,
     "metadata": {},
     "output_type": "execute_result"
    }
   ],
   "source": [
    "df['CELIAQUIA '].value_counts(sort=False, normalize=True).round(2)"
   ]
  },
  {
   "cell_type": "code",
   "execution_count": 76,
   "metadata": {},
   "outputs": [
    {
     "data": {
      "text/plain": [
       "0"
      ]
     },
     "execution_count": 76,
     "metadata": {},
     "output_type": "execute_result"
    }
   ],
   "source": [
    "df['CELIAQUIA '].isna().sum()"
   ]
  },
  {
   "cell_type": "code",
   "execution_count": 77,
   "metadata": {},
   "outputs": [
    {
     "data": {
      "image/png": "[encoded data removed]",
      "text/plain": [
       "<Figure size 864x576 with 1 Axes>"
      ]
     },
     "metadata": {},
     "output_type": "display_data"
    }
   ],
   "source": [
    "plot_bar('CELIAQUIA ', 'Enfermedad celíaca')"
   ]
  },
  {
   "cell_type": "markdown",
   "metadata": {},
   "source": [
    "#### Artritis reumatoide"
   ]
  },
  {
   "cell_type": "code",
   "execution_count": 78,
   "metadata": {},
   "outputs": [
    {
     "data": {
      "text/plain": [
       "Sí     13\n",
       "No    388\n",
       "Name: ARTRITIS, dtype: int64"
      ]
     },
     "execution_count": 78,
     "metadata": {},
     "output_type": "execute_result"
    }
   ],
   "source": [
    "df['ARTRITIS'].replace({'SI':'Sí','NO':'No','NO ':'No'}, inplace=True)\n",
    "df['ARTRITIS'].value_counts(sort=False)"
   ]
  },
  {
   "cell_type": "code",
   "execution_count": 79,
   "metadata": {},
   "outputs": [
    {
     "data": {
      "text/plain": [
       "Sí    0.03\n",
       "No    0.97\n",
       "Name: ARTRITIS, dtype: float64"
      ]
     },
     "execution_count": 79,
     "metadata": {},
     "output_type": "execute_result"
    }
   ],
   "source": [
    "df['ARTRITIS'].value_counts(sort=False, normalize=True).round(2)"
   ]
  },
  {
   "cell_type": "code",
   "execution_count": 80,
   "metadata": {},
   "outputs": [
    {
     "data": {
      "text/plain": [
       "0"
      ]
     },
     "execution_count": 80,
     "metadata": {},
     "output_type": "execute_result"
    }
   ],
   "source": [
    "df['ARTRITIS'].isna().sum()"
   ]
  },
  {
   "cell_type": "code",
   "execution_count": 81,
   "metadata": {},
   "outputs": [
    {
     "data": {
      "image/png": "[encoded data removed]",
      "text/plain": [
       "<Figure size 864x576 with 1 Axes>"
      ]
     },
     "metadata": {},
     "output_type": "display_data"
    }
   ],
   "source": [
    "plot_bar('ARTRITIS', 'Artritis reumatoide')"
   ]
  },
  {
   "cell_type": "code",
   "execution_count": 82,
   "metadata": {},
   "outputs": [
    {
     "data": {
      "text/plain": [
       "(109, 23)"
      ]
     },
     "execution_count": 82,
     "metadata": {},
     "output_type": "execute_result"
    }
   ],
   "source": [
    "# Considerando sólo casos con enfermedades autoinmunes\n",
    "df.rename(columns={'DX ENF AUTOINM':'DX_ENF_AUTOINM'}, inplace=True)\n",
    "df_autoinmune = df.query('DX_ENF_AUTOINM == \"Sí\"')\n",
    "df_autoinmune.shape"
   ]
  },
  {
   "cell_type": "code",
   "execution_count": 83,
   "metadata": {},
   "outputs": [
    {
     "data": {
      "text/plain": [
       "Hashimoto          0.61\n",
       "Ninguna            0.29\n",
       "Hipotiroidismo     0.06\n",
       "Hipertiroidismo    0.04\n",
       "Name: HIPOT , dtype: float64"
      ]
     },
     "execution_count": 83,
     "metadata": {},
     "output_type": "execute_result"
    }
   ],
   "source": [
    "df_autoinmune['HIPOT '].value_counts(normalize=True).round(2)"
   ]
  },
  {
   "cell_type": "code",
   "execution_count": 84,
   "metadata": {},
   "outputs": [
    {
     "data": {
      "text/plain": [
       "No    0.76\n",
       "Sí    0.24\n",
       "Name: CELIAQUIA , dtype: float64"
      ]
     },
     "execution_count": 84,
     "metadata": {},
     "output_type": "execute_result"
    }
   ],
   "source": [
    "df_autoinmune['CELIAQUIA '].value_counts(normalize=True).round(2)"
   ]
  },
  {
   "cell_type": "code",
   "execution_count": 85,
   "metadata": {},
   "outputs": [
    {
     "data": {
      "text/plain": [
       "No    0.88\n",
       "Sí    0.12\n",
       "Name: ARTRITIS, dtype: float64"
      ]
     },
     "execution_count": 85,
     "metadata": {},
     "output_type": "execute_result"
    }
   ],
   "source": [
    "df_autoinmune['ARTRITIS'].value_counts(normalize=True).round(2)"
   ]
  },
  {
   "cell_type": "markdown",
   "metadata": {},
   "source": [
    "### Objetivo específico núm. 5: Explorar relación entre el tipo de parto, la lactancia materna y las enfermedades autoinmunes adquiridas"
   ]
  },
  {
   "cell_type": "markdown",
   "metadata": {},
   "source": [
    "#### Tipo de parto y enfermedades autoinmunes"
   ]
  },
  {
   "cell_type": "code",
   "execution_count": 86,
   "metadata": {},
   "outputs": [
    {
     "data": {
      "text/html": [
       "<div>\n",
       "<style scoped>\n",
       "    .dataframe tbody tr th:only-of-type {\n",
       "        vertical-align: middle;\n",
       "    }\n",
       "\n",
       "    .dataframe tbody tr th {\n",
       "        vertical-align: top;\n",
       "    }\n",
       "\n",
       "    .dataframe thead th {\n",
       "        text-align: right;\n",
       "    }\n",
       "</style>\n",
       "<table border=\"1\" class=\"dataframe\">\n",
       "  <thead>\n",
       "    <tr style=\"text-align: right;\">\n",
       "      <th>DX_ENF_AUTOINM</th>\n",
       "      <th>No</th>\n",
       "      <th>Sí</th>\n",
       "      <th>All</th>\n",
       "    </tr>\n",
       "    <tr>\n",
       "      <th>VIA DE NACIMIENTO</th>\n",
       "      <th></th>\n",
       "      <th></th>\n",
       "      <th></th>\n",
       "    </tr>\n",
       "  </thead>\n",
       "  <tbody>\n",
       "    <tr>\n",
       "      <th>Cesárea</th>\n",
       "      <td>109</td>\n",
       "      <td>37</td>\n",
       "      <td>146</td>\n",
       "    </tr>\n",
       "    <tr>\n",
       "      <th>Vaginal</th>\n",
       "      <td>182</td>\n",
       "      <td>66</td>\n",
       "      <td>248</td>\n",
       "    </tr>\n",
       "    <tr>\n",
       "      <th>All</th>\n",
       "      <td>291</td>\n",
       "      <td>103</td>\n",
       "      <td>394</td>\n",
       "    </tr>\n",
       "  </tbody>\n",
       "</table>\n",
       "</div>"
      ],
      "text/plain": [
       "DX_ENF_AUTOINM      No   Sí  All\n",
       "VIA DE NACIMIENTO               \n",
       "Cesárea            109   37  146\n",
       "Vaginal            182   66  248\n",
       "All                291  103  394"
      ]
     },
     "execution_count": 86,
     "metadata": {},
     "output_type": "execute_result"
    }
   ],
   "source": [
    "pd.crosstab(index=df['VIA DE NACIMIENTO'], columns=df['DX_ENF_AUTOINM'], margins=True)"
   ]
  },
  {
   "cell_type": "code",
   "execution_count": 87,
   "metadata": {},
   "outputs": [
    {
     "data": {
      "text/html": [
       "<div>\n",
       "<style scoped>\n",
       "    .dataframe tbody tr th:only-of-type {\n",
       "        vertical-align: middle;\n",
       "    }\n",
       "\n",
       "    .dataframe tbody tr th {\n",
       "        vertical-align: top;\n",
       "    }\n",
       "\n",
       "    .dataframe thead th {\n",
       "        text-align: right;\n",
       "    }\n",
       "</style>\n",
       "<table border=\"1\" class=\"dataframe\">\n",
       "  <thead>\n",
       "    <tr style=\"text-align: right;\">\n",
       "      <th>DX_ENF_AUTOINM</th>\n",
       "      <th>No</th>\n",
       "      <th>Sí</th>\n",
       "    </tr>\n",
       "    <tr>\n",
       "      <th>VIA DE NACIMIENTO</th>\n",
       "      <th></th>\n",
       "      <th></th>\n",
       "    </tr>\n",
       "  </thead>\n",
       "  <tbody>\n",
       "    <tr>\n",
       "      <th>Cesárea</th>\n",
       "      <td>0.75</td>\n",
       "      <td>0.25</td>\n",
       "    </tr>\n",
       "    <tr>\n",
       "      <th>Vaginal</th>\n",
       "      <td>0.73</td>\n",
       "      <td>0.27</td>\n",
       "    </tr>\n",
       "  </tbody>\n",
       "</table>\n",
       "</div>"
      ],
      "text/plain": [
       "DX_ENF_AUTOINM       No    Sí\n",
       "VIA DE NACIMIENTO            \n",
       "Cesárea            0.75  0.25\n",
       "Vaginal            0.73  0.27"
      ]
     },
     "execution_count": 87,
     "metadata": {},
     "output_type": "execute_result"
    }
   ],
   "source": [
    "pd.crosstab(index=df['VIA DE NACIMIENTO'], columns=df['DX_ENF_AUTOINM'], normalize='index').round(2)"
   ]
  },
  {
   "cell_type": "code",
   "execution_count": 88,
   "metadata": {},
   "outputs": [
    {
     "data": {
      "text/plain": [
       "(0.025111518100861166,\n",
       " 0.8740894984439348,\n",
       " 1,\n",
       " array([[107.83248731,  38.16751269],\n",
       "        [183.16751269,  64.83248731]]))"
      ]
     },
     "execution_count": 88,
     "metadata": {},
     "output_type": "execute_result"
    }
   ],
   "source": [
    "stats.chi2_contingency(pd.crosstab(index=df['VIA DE NACIMIENTO'], columns=df['DX_ENF_AUTOINM']))"
   ]
  },
  {
   "cell_type": "code",
   "execution_count": 95,
   "metadata": {},
   "outputs": [
    {
     "ename": "ValueError",
     "evalue": "cannot insert VIA DE NACIMIENTO, already exists",
     "output_type": "error",
     "traceback": [
      "\u001b[0;31m---------------------------------------------------------------------------\u001b[0m",
      "\u001b[0;31mValueError\u001b[0m                                Traceback (most recent call last)",
      "\u001b[0;32m<ipython-input-95-8a0dfff6f257>\u001b[0m in \u001b[0;36m<module>\u001b[0;34m\u001b[0m\n\u001b[0;32m----> 1\u001b[0;31m \u001b[0mplot_bar\u001b[0m\u001b[0;34m(\u001b[0m\u001b[0;34m'VIA DE NACIMIENTO'\u001b[0m\u001b[0;34m,\u001b[0m \u001b[0;34m'Enfermedad autoinmune'\u001b[0m\u001b[0;34m,\u001b[0m \u001b[0mhue\u001b[0m\u001b[0;34m=\u001b[0m\u001b[0;34m'DX_ENF_AUTOINM'\u001b[0m\u001b[0;34m)\u001b[0m\u001b[0;34m\u001b[0m\u001b[0;34m\u001b[0m\u001b[0m\n\u001b[0m",
      "\u001b[0;32m<ipython-input-94-893f97c9bc9e>\u001b[0m in \u001b[0;36mplot_bar\u001b[0;34m(x, xlab, hue)\u001b[0m\n\u001b[1;32m      1\u001b[0m \u001b[0;31m# Creando una función para plotear gráficos de barras con porcentajes\u001b[0m\u001b[0;34m\u001b[0m\u001b[0;34m\u001b[0m\u001b[0;34m\u001b[0m\u001b[0m\n\u001b[1;32m      2\u001b[0m \u001b[0;32mdef\u001b[0m \u001b[0mplot_bar\u001b[0m\u001b[0;34m(\u001b[0m\u001b[0mx\u001b[0m\u001b[0;34m,\u001b[0m \u001b[0mxlab\u001b[0m\u001b[0;34m,\u001b[0m \u001b[0mhue\u001b[0m\u001b[0;34m=\u001b[0m\u001b[0;32mNone\u001b[0m\u001b[0;34m)\u001b[0m\u001b[0;34m:\u001b[0m\u001b[0;34m\u001b[0m\u001b[0;34m\u001b[0m\u001b[0m\n\u001b[0;32m----> 3\u001b[0;31m     \u001b[0mdf\u001b[0m\u001b[0;34m.\u001b[0m\u001b[0mgroupby\u001b[0m\u001b[0;34m(\u001b[0m\u001b[0mhue\u001b[0m\u001b[0;34m)\u001b[0m\u001b[0;34m[\u001b[0m\u001b[0mx\u001b[0m\u001b[0;34m]\u001b[0m\u001b[0;34m.\u001b[0m\u001b[0mvalue_counts\u001b[0m\u001b[0;34m(\u001b[0m\u001b[0mnormalize\u001b[0m\u001b[0;34m=\u001b[0m\u001b[0;32mTrue\u001b[0m\u001b[0;34m)\u001b[0m\u001b[0;34m.\u001b[0m\u001b[0mreset_index\u001b[0m\u001b[0;34m(\u001b[0m\u001b[0;34m)\u001b[0m\u001b[0;34m.\u001b[0m\u001b[0mpipe\u001b[0m\u001b[0;34m(\u001b[0m\u001b[0;34m(\u001b[0m\u001b[0msns\u001b[0m\u001b[0;34m.\u001b[0m\u001b[0mbarplot\u001b[0m\u001b[0;34m,\u001b[0m \u001b[0;34m'data'\u001b[0m\u001b[0;34m)\u001b[0m\u001b[0;34m,\u001b[0m \u001b[0mx\u001b[0m\u001b[0;34m=\u001b[0m\u001b[0;34m'index'\u001b[0m\u001b[0;34m,\u001b[0m \u001b[0my\u001b[0m\u001b[0;34m=\u001b[0m\u001b[0mx\u001b[0m\u001b[0;34m,\u001b[0m \u001b[0mhue\u001b[0m\u001b[0;34m=\u001b[0m\u001b[0mhue\u001b[0m\u001b[0;34m)\u001b[0m\u001b[0;34m\u001b[0m\u001b[0;34m\u001b[0m\u001b[0m\n\u001b[0m\u001b[1;32m      4\u001b[0m     \u001b[0mplt\u001b[0m\u001b[0;34m.\u001b[0m\u001b[0mxlabel\u001b[0m\u001b[0;34m(\u001b[0m\u001b[0mxlab\u001b[0m\u001b[0;34m,\u001b[0m \u001b[0msize\u001b[0m\u001b[0;34m=\u001b[0m\u001b[0;36m16\u001b[0m\u001b[0;34m)\u001b[0m\u001b[0;34m\u001b[0m\u001b[0;34m\u001b[0m\u001b[0m\n\u001b[1;32m      5\u001b[0m     \u001b[0mplt\u001b[0m\u001b[0;34m.\u001b[0m\u001b[0mylabel\u001b[0m\u001b[0;34m(\u001b[0m\u001b[0;34m'Porcentaje'\u001b[0m\u001b[0;34m,\u001b[0m \u001b[0msize\u001b[0m\u001b[0;34m=\u001b[0m\u001b[0;36m16\u001b[0m\u001b[0;34m)\u001b[0m\u001b[0;34m\u001b[0m\u001b[0;34m\u001b[0m\u001b[0m\n",
      "\u001b[0;32m/opt/anaconda3/lib/python3.8/site-packages/pandas/core/series.py\u001b[0m in \u001b[0;36mreset_index\u001b[0;34m(self, level, drop, name, inplace)\u001b[0m\n\u001b[1;32m   1276\u001b[0m         \u001b[0;32melse\u001b[0m\u001b[0;34m:\u001b[0m\u001b[0;34m\u001b[0m\u001b[0;34m\u001b[0m\u001b[0m\n\u001b[1;32m   1277\u001b[0m             \u001b[0mdf\u001b[0m \u001b[0;34m=\u001b[0m \u001b[0mself\u001b[0m\u001b[0;34m.\u001b[0m\u001b[0mto_frame\u001b[0m\u001b[0;34m(\u001b[0m\u001b[0mname\u001b[0m\u001b[0;34m)\u001b[0m\u001b[0;34m\u001b[0m\u001b[0;34m\u001b[0m\u001b[0m\n\u001b[0;32m-> 1278\u001b[0;31m             \u001b[0;32mreturn\u001b[0m \u001b[0mdf\u001b[0m\u001b[0;34m.\u001b[0m\u001b[0mreset_index\u001b[0m\u001b[0;34m(\u001b[0m\u001b[0mlevel\u001b[0m\u001b[0;34m=\u001b[0m\u001b[0mlevel\u001b[0m\u001b[0;34m,\u001b[0m \u001b[0mdrop\u001b[0m\u001b[0;34m=\u001b[0m\u001b[0mdrop\u001b[0m\u001b[0;34m)\u001b[0m\u001b[0;34m\u001b[0m\u001b[0;34m\u001b[0m\u001b[0m\n\u001b[0m\u001b[1;32m   1279\u001b[0m \u001b[0;34m\u001b[0m\u001b[0m\n\u001b[1;32m   1280\u001b[0m     \u001b[0;31m# ----------------------------------------------------------------------\u001b[0m\u001b[0;34m\u001b[0m\u001b[0;34m\u001b[0m\u001b[0;34m\u001b[0m\u001b[0m\n",
      "\u001b[0;32m/opt/anaconda3/lib/python3.8/site-packages/pandas/core/frame.py\u001b[0m in \u001b[0;36mreset_index\u001b[0;34m(self, level, drop, inplace, col_level, col_fill)\u001b[0m\n\u001b[1;32m   5014\u001b[0m                 \u001b[0;31m# to ndarray and maybe infer different dtype\u001b[0m\u001b[0;34m\u001b[0m\u001b[0;34m\u001b[0m\u001b[0;34m\u001b[0m\u001b[0m\n\u001b[1;32m   5015\u001b[0m                 \u001b[0mlevel_values\u001b[0m \u001b[0;34m=\u001b[0m \u001b[0mmaybe_casted_values\u001b[0m\u001b[0;34m(\u001b[0m\u001b[0mlev\u001b[0m\u001b[0;34m,\u001b[0m \u001b[0mlab\u001b[0m\u001b[0;34m)\u001b[0m\u001b[0;34m\u001b[0m\u001b[0;34m\u001b[0m\u001b[0m\n\u001b[0;32m-> 5016\u001b[0;31m                 \u001b[0mnew_obj\u001b[0m\u001b[0;34m.\u001b[0m\u001b[0minsert\u001b[0m\u001b[0;34m(\u001b[0m\u001b[0;36m0\u001b[0m\u001b[0;34m,\u001b[0m \u001b[0mname\u001b[0m\u001b[0;34m,\u001b[0m \u001b[0mlevel_values\u001b[0m\u001b[0;34m)\u001b[0m\u001b[0;34m\u001b[0m\u001b[0;34m\u001b[0m\u001b[0m\n\u001b[0m\u001b[1;32m   5017\u001b[0m \u001b[0;34m\u001b[0m\u001b[0m\n\u001b[1;32m   5018\u001b[0m         \u001b[0mnew_obj\u001b[0m\u001b[0;34m.\u001b[0m\u001b[0mindex\u001b[0m \u001b[0;34m=\u001b[0m \u001b[0mnew_index\u001b[0m\u001b[0;34m\u001b[0m\u001b[0;34m\u001b[0m\u001b[0m\n",
      "\u001b[0;32m/opt/anaconda3/lib/python3.8/site-packages/pandas/core/frame.py\u001b[0m in \u001b[0;36minsert\u001b[0;34m(self, loc, column, value, allow_duplicates)\u001b[0m\n\u001b[1;32m   3761\u001b[0m         \u001b[0mself\u001b[0m\u001b[0;34m.\u001b[0m\u001b[0m_ensure_valid_index\u001b[0m\u001b[0;34m(\u001b[0m\u001b[0mvalue\u001b[0m\u001b[0;34m)\u001b[0m\u001b[0;34m\u001b[0m\u001b[0;34m\u001b[0m\u001b[0m\n\u001b[1;32m   3762\u001b[0m         \u001b[0mvalue\u001b[0m \u001b[0;34m=\u001b[0m \u001b[0mself\u001b[0m\u001b[0;34m.\u001b[0m\u001b[0m_sanitize_column\u001b[0m\u001b[0;34m(\u001b[0m\u001b[0mcolumn\u001b[0m\u001b[0;34m,\u001b[0m \u001b[0mvalue\u001b[0m\u001b[0;34m,\u001b[0m \u001b[0mbroadcast\u001b[0m\u001b[0;34m=\u001b[0m\u001b[0;32mFalse\u001b[0m\u001b[0;34m)\u001b[0m\u001b[0;34m\u001b[0m\u001b[0;34m\u001b[0m\u001b[0m\n\u001b[0;32m-> 3763\u001b[0;31m         \u001b[0mself\u001b[0m\u001b[0;34m.\u001b[0m\u001b[0m_mgr\u001b[0m\u001b[0;34m.\u001b[0m\u001b[0minsert\u001b[0m\u001b[0;34m(\u001b[0m\u001b[0mloc\u001b[0m\u001b[0;34m,\u001b[0m \u001b[0mcolumn\u001b[0m\u001b[0;34m,\u001b[0m \u001b[0mvalue\u001b[0m\u001b[0;34m,\u001b[0m \u001b[0mallow_duplicates\u001b[0m\u001b[0;34m=\u001b[0m\u001b[0mallow_duplicates\u001b[0m\u001b[0;34m)\u001b[0m\u001b[0;34m\u001b[0m\u001b[0;34m\u001b[0m\u001b[0m\n\u001b[0m\u001b[1;32m   3764\u001b[0m \u001b[0;34m\u001b[0m\u001b[0m\n\u001b[1;32m   3765\u001b[0m     \u001b[0;32mdef\u001b[0m \u001b[0massign\u001b[0m\u001b[0;34m(\u001b[0m\u001b[0mself\u001b[0m\u001b[0;34m,\u001b[0m \u001b[0;34m**\u001b[0m\u001b[0mkwargs\u001b[0m\u001b[0;34m)\u001b[0m \u001b[0;34m->\u001b[0m \u001b[0mDataFrame\u001b[0m\u001b[0;34m:\u001b[0m\u001b[0;34m\u001b[0m\u001b[0;34m\u001b[0m\u001b[0m\n",
      "\u001b[0;32m/opt/anaconda3/lib/python3.8/site-packages/pandas/core/internals/managers.py\u001b[0m in \u001b[0;36minsert\u001b[0;34m(self, loc, item, value, allow_duplicates)\u001b[0m\n\u001b[1;32m   1189\u001b[0m         \u001b[0;32mif\u001b[0m \u001b[0;32mnot\u001b[0m \u001b[0mallow_duplicates\u001b[0m \u001b[0;32mand\u001b[0m \u001b[0mitem\u001b[0m \u001b[0;32min\u001b[0m \u001b[0mself\u001b[0m\u001b[0;34m.\u001b[0m\u001b[0mitems\u001b[0m\u001b[0;34m:\u001b[0m\u001b[0;34m\u001b[0m\u001b[0;34m\u001b[0m\u001b[0m\n\u001b[1;32m   1190\u001b[0m             \u001b[0;31m# Should this be a different kind of error??\u001b[0m\u001b[0;34m\u001b[0m\u001b[0;34m\u001b[0m\u001b[0;34m\u001b[0m\u001b[0m\n\u001b[0;32m-> 1191\u001b[0;31m             \u001b[0;32mraise\u001b[0m \u001b[0mValueError\u001b[0m\u001b[0;34m(\u001b[0m\u001b[0;34mf\"cannot insert {item}, already exists\"\u001b[0m\u001b[0;34m)\u001b[0m\u001b[0;34m\u001b[0m\u001b[0;34m\u001b[0m\u001b[0m\n\u001b[0m\u001b[1;32m   1192\u001b[0m \u001b[0;34m\u001b[0m\u001b[0m\n\u001b[1;32m   1193\u001b[0m         \u001b[0;32mif\u001b[0m \u001b[0;32mnot\u001b[0m \u001b[0misinstance\u001b[0m\u001b[0;34m(\u001b[0m\u001b[0mloc\u001b[0m\u001b[0;34m,\u001b[0m \u001b[0mint\u001b[0m\u001b[0;34m)\u001b[0m\u001b[0;34m:\u001b[0m\u001b[0;34m\u001b[0m\u001b[0;34m\u001b[0m\u001b[0m\n",
      "\u001b[0;31mValueError\u001b[0m: cannot insert VIA DE NACIMIENTO, already exists"
     ]
    }
   ],
   "source": [
    "plot_bar('VIA DE NACIMIENTO', 'Enfermedad autoinmune', hue='DX_ENF_AUTOINM')"
   ]
  },
  {
   "cell_type": "markdown",
   "metadata": {},
   "source": [
    "#### Tipo de parto y patología tiroidea"
   ]
  },
  {
   "cell_type": "code",
   "execution_count": null,
   "metadata": {},
   "outputs": [],
   "source": [
    "pd.crosstab(df['VIA DE NACIMIENTO'], df['HIPOT '], margins=True)"
   ]
  },
  {
   "cell_type": "code",
   "execution_count": null,
   "metadata": {},
   "outputs": [],
   "source": [
    "pd.crosstab(df['VIA DE NACIMIENTO'], df['HIPOT '], normalize='index').round(2)"
   ]
  },
  {
   "cell_type": "code",
   "execution_count": null,
   "metadata": {},
   "outputs": [],
   "source": [
    "stats.chi2_contingency(pd.crosstab(df['VIA DE NACIMIENTO'], df['HIPOT ']))"
   ]
  },
  {
   "cell_type": "code",
   "execution_count": null,
   "metadata": {},
   "outputs": [],
   "source": [
    "sns.countplot(x='VIA DE NACIMIENTO', hue='HIPOT ', data=df)\n",
    "plt.legend(title='Patología tiroidea')\n",
    "plt.xlabel('Vía de nacimiento', size=16)\n",
    "plt.ylabel('Núm. casos', size=16)\n",
    "plt.show()"
   ]
  },
  {
   "cell_type": "markdown",
   "metadata": {},
   "source": [
    "#### Tipo de parto y enfermedad celíaca"
   ]
  },
  {
   "cell_type": "code",
   "execution_count": null,
   "metadata": {},
   "outputs": [],
   "source": [
    "pd.crosstab(df['VIA DE NACIMIENTO'], df['CELIAQUIA '], margins=True)"
   ]
  },
  {
   "cell_type": "code",
   "execution_count": null,
   "metadata": {},
   "outputs": [],
   "source": [
    "pd.crosstab(df['VIA DE NACIMIENTO'], df['CELIAQUIA '], normalize='index').round(2)"
   ]
  },
  {
   "cell_type": "code",
   "execution_count": null,
   "metadata": {},
   "outputs": [],
   "source": [
    "stats.chi2_contingency(pd.crosstab(df['VIA DE NACIMIENTO'], df['CELIAQUIA ']))"
   ]
  },
  {
   "cell_type": "code",
   "execution_count": null,
   "metadata": {},
   "outputs": [],
   "source": [
    "sns.countplot(x='VIA DE NACIMIENTO', hue='CELIAQUIA ', data=df)\n",
    "plt.legend(title='Enfermedad celíaca')\n",
    "plt.xlabel('Vía de nacimiento', size=16)\n",
    "plt.ylabel('Núm. casos', size=16)\n",
    "plt.show()"
   ]
  },
  {
   "cell_type": "markdown",
   "metadata": {},
   "source": [
    "#### Tipo de parto y artritis reumatoide"
   ]
  },
  {
   "cell_type": "code",
   "execution_count": null,
   "metadata": {},
   "outputs": [],
   "source": [
    "pd.crosstab(df['VIA DE NACIMIENTO'], df['ARTRITIS'], margins=True)"
   ]
  },
  {
   "cell_type": "code",
   "execution_count": null,
   "metadata": {},
   "outputs": [],
   "source": [
    "pd.crosstab(df['VIA DE NACIMIENTO'], df['ARTRITIS'], normalize='index').round(2)"
   ]
  },
  {
   "cell_type": "code",
   "execution_count": null,
   "metadata": {},
   "outputs": [],
   "source": [
    "stats.chi2_contingency(pd.crosstab(df['VIA DE NACIMIENTO'], df['ARTRITIS']))"
   ]
  },
  {
   "cell_type": "code",
   "execution_count": null,
   "metadata": {},
   "outputs": [],
   "source": [
    "sns.countplot(x='VIA DE NACIMIENTO', hue='ARTRITIS', data=df)\n",
    "plt.legend(title='Artritis reumatoide')\n",
    "plt.xlabel('Vía de nacimiento', size=16)\n",
    "plt.ylabel('Núm. casos', size=16)\n",
    "plt.show()"
   ]
  },
  {
   "cell_type": "markdown",
   "metadata": {},
   "source": [
    "#### Tiempo de lactancia y enfermedades autoinmunes"
   ]
  },
  {
   "cell_type": "code",
   "execution_count": null,
   "metadata": {},
   "outputs": [],
   "source": [
    "pd.crosstab(df['TIEMPO DE LACTANCIA '], df['DX_ENF_AUTOINM'], margins=True)"
   ]
  },
  {
   "cell_type": "code",
   "execution_count": null,
   "metadata": {},
   "outputs": [],
   "source": [
    "pd.crosstab(df['TIEMPO DE LACTANCIA '], df['DX_ENF_AUTOINM'], normalize='index').round(2)"
   ]
  },
  {
   "cell_type": "code",
   "execution_count": null,
   "metadata": {},
   "outputs": [],
   "source": [
    "stats.chi2_contingency(pd.crosstab(df['TIEMPO DE LACTANCIA '], df['DX_ENF_AUTOINM']))"
   ]
  },
  {
   "cell_type": "code",
   "execution_count": null,
   "metadata": {},
   "outputs": [],
   "source": [
    "sns.countplot(x='TIEMPO DE LACTANCIA ', hue='DX_ENF_AUTOINM', data=df)\n",
    "plt.legend(title='Enfermedad autoinmune', loc='upper right')\n",
    "plt.xlabel('Tiempo de lactancia', size=16)\n",
    "plt.ylabel('Núm. casos', size=16)\n",
    "plt.show()"
   ]
  },
  {
   "cell_type": "markdown",
   "metadata": {},
   "source": [
    "#### Tiempo de lactancia y patología tiroidea"
   ]
  },
  {
   "cell_type": "code",
   "execution_count": null,
   "metadata": {},
   "outputs": [],
   "source": [
    "pd.crosstab(df['TIEMPO DE LACTANCIA '], df['HIPOT '], margins=True)"
   ]
  },
  {
   "cell_type": "code",
   "execution_count": null,
   "metadata": {},
   "outputs": [],
   "source": [
    "pd.crosstab(df['TIEMPO DE LACTANCIA '], df['HIPOT '], normalize='index').round(2)"
   ]
  },
  {
   "cell_type": "code",
   "execution_count": null,
   "metadata": {},
   "outputs": [],
   "source": [
    "stats.chi2_contingency(pd.crosstab(df['TIEMPO DE LACTANCIA '], df['HIPOT ']))"
   ]
  },
  {
   "cell_type": "code",
   "execution_count": null,
   "metadata": {},
   "outputs": [],
   "source": [
    "sns.countplot(x='TIEMPO DE LACTANCIA ', hue='HIPOT ', data=df)\n",
    "plt.legend(title='Patología tiroidea', loc='upper right')\n",
    "plt.xlabel('Tiempo de lactancia', size=16)\n",
    "plt.ylabel('Núm. casos', size=16)\n",
    "plt.show()"
   ]
  },
  {
   "cell_type": "markdown",
   "metadata": {},
   "source": [
    "#### Tiempo de lactancia y enfermedad celíaca"
   ]
  },
  {
   "cell_type": "code",
   "execution_count": null,
   "metadata": {},
   "outputs": [],
   "source": [
    "pd.crosstab(df['TIEMPO DE LACTANCIA '], df['CELIAQUIA '], margins=True)"
   ]
  },
  {
   "cell_type": "code",
   "execution_count": null,
   "metadata": {},
   "outputs": [],
   "source": [
    "pd.crosstab(df['TIEMPO DE LACTANCIA '], df['CELIAQUIA '], normalize='index').round(2)"
   ]
  },
  {
   "cell_type": "code",
   "execution_count": null,
   "metadata": {},
   "outputs": [],
   "source": [
    "stats.chi2_contingency(pd.crosstab(df['TIEMPO DE LACTANCIA '], df['CELIAQUIA ']))"
   ]
  },
  {
   "cell_type": "code",
   "execution_count": null,
   "metadata": {},
   "outputs": [],
   "source": [
    "sns.countplot(x='TIEMPO DE LACTANCIA ', hue='CELIAQUIA ', data=df)\n",
    "plt.legend(title='Enfermedad celíaca')\n",
    "plt.xlabel('Tiempo de lactancia', size=16)\n",
    "plt.ylabel('Núm. casos', size=16)\n",
    "plt.show()"
   ]
  },
  {
   "cell_type": "markdown",
   "metadata": {},
   "source": [
    "#### Tiempo de lactancia y artritis reumatoide"
   ]
  },
  {
   "cell_type": "code",
   "execution_count": null,
   "metadata": {},
   "outputs": [],
   "source": [
    "pd.crosstab(df['TIEMPO DE LACTANCIA '], df['ARTRITIS'], margins=True)"
   ]
  },
  {
   "cell_type": "code",
   "execution_count": null,
   "metadata": {},
   "outputs": [],
   "source": [
    "pd.crosstab(df['TIEMPO DE LACTANCIA '], df['ARTRITIS'], normalize='index').round(2)"
   ]
  },
  {
   "cell_type": "code",
   "execution_count": null,
   "metadata": {},
   "outputs": [],
   "source": [
    "stats.chi2_contingency(pd.crosstab(df['TIEMPO DE LACTANCIA '], df['ARTRITIS']))"
   ]
  },
  {
   "cell_type": "code",
   "execution_count": null,
   "metadata": {},
   "outputs": [],
   "source": [
    "sns.countplot(x='TIEMPO DE LACTANCIA ', hue='ARTRITIS', data=df)\n",
    "plt.legend(title='Artritis reumatoide')\n",
    "plt.xlabel('Tiempo de lactancia', size=16)\n",
    "plt.ylabel('Núm. casos', size=16)\n",
    "plt.show()"
   ]
  },
  {
   "cell_type": "markdown",
   "metadata": {},
   "source": [
    "#### Tipo de parto + tiempo de lactancia y enfermedades autoinmunes"
   ]
  },
  {
   "cell_type": "code",
   "execution_count": null,
   "metadata": {},
   "outputs": [],
   "source": [
    "df['PARTO + LACTANCIA'] = df['VIA DE NACIMIENTO'].astype(str) + ' - ' + df['TIEMPO DE LACTANCIA '].astype(str)\n",
    "df['PARTO + LACTANCIA'].replace({'Cesárea - nan':np.nan,'Vaginal - nan':np.nan,'nan - nan':np.nan}, inplace=True)\n",
    "df['PARTO + LACTANCIA'] = df['PARTO + LACTANCIA'].astype('category')\n",
    "df['PARTO + LACTANCIA'].cat.reorder_categories(['Vaginal - 6 meses o menos','Vaginal - Más de 6 meses','Cesárea - 6 meses o menos','Cesárea - Más de 6 meses'], ordered=True, inplace=True)\n",
    "df['PARTO + LACTANCIA'].value_counts(sort=False)"
   ]
  },
  {
   "cell_type": "code",
   "execution_count": null,
   "metadata": {},
   "outputs": [],
   "source": [
    "df['PARTO + LACTANCIA'].value_counts(sort=False, normalize=True).round(2)"
   ]
  },
  {
   "cell_type": "code",
   "execution_count": null,
   "metadata": {},
   "outputs": [],
   "source": [
    "sns.countplot(y='PARTO + LACTANCIA', data=df)\n",
    "plt.xlabel('Núm. casos', size=16)\n",
    "plt.ylabel('Tipo de parto + Tiempo de lactancia', size=16)\n",
    "plt.show()"
   ]
  },
  {
   "cell_type": "code",
   "execution_count": null,
   "metadata": {},
   "outputs": [],
   "source": [
    "pd.crosstab(df['PARTO + LACTANCIA'], df['DX_ENF_AUTOINM'], margins=True, margins_name='Total')"
   ]
  },
  {
   "cell_type": "code",
   "execution_count": null,
   "metadata": {},
   "outputs": [],
   "source": [
    "pd.crosstab(df['PARTO + LACTANCIA'], df['DX_ENF_AUTOINM'], normalize='index').round(2)"
   ]
  },
  {
   "cell_type": "code",
   "execution_count": null,
   "metadata": {},
   "outputs": [],
   "source": [
    "stats.chi2_contingency(pd.crosstab(df['PARTO + LACTANCIA'], df['DX_ENF_AUTOINM']))"
   ]
  },
  {
   "cell_type": "code",
   "execution_count": null,
   "metadata": {},
   "outputs": [],
   "source": [
    "sns.countplot(y='PARTO + LACTANCIA', hue='DX_ENF_AUTOINM', data=df)\n",
    "plt.xlabel('Núm. casos', size=16)\n",
    "plt.ylabel('Tipo de parto + Tiempo de lactancia', size=16)\n",
    "plt.legend(title='Enfermedad autoinmune')\n",
    "plt.show()"
   ]
  },
  {
   "cell_type": "markdown",
   "metadata": {},
   "source": [
    "#### Tipo de parto + tiempo de lactancia y patología tiroidea"
   ]
  },
  {
   "cell_type": "code",
   "execution_count": null,
   "metadata": {},
   "outputs": [],
   "source": [
    "pd.crosstab(df['PARTO + LACTANCIA'], df['HIPOT '], margins=True, margins_name='Total')"
   ]
  },
  {
   "cell_type": "code",
   "execution_count": null,
   "metadata": {},
   "outputs": [],
   "source": [
    "pd.crosstab(df['PARTO + LACTANCIA'], df['HIPOT '], normalize='index').round(2)"
   ]
  },
  {
   "cell_type": "code",
   "execution_count": null,
   "metadata": {},
   "outputs": [],
   "source": [
    "stats.chi2_contingency(pd.crosstab(df['PARTO + LACTANCIA'], df['HIPOT ']))"
   ]
  },
  {
   "cell_type": "code",
   "execution_count": null,
   "metadata": {},
   "outputs": [],
   "source": [
    "sns.countplot(y='PARTO + LACTANCIA', hue='HIPOT ', data=df)\n",
    "plt.xlabel('Núm. casos', size=16)\n",
    "plt.ylabel('Tipo de parto + Tiempo de lactancia', size=16)\n",
    "plt.legend(title='Patología tiroidea', loc='lower right')\n",
    "plt.show()"
   ]
  },
  {
   "cell_type": "markdown",
   "metadata": {},
   "source": [
    "#### Tipo de parto + tiempo de lactancia y enfermedad celíaca"
   ]
  },
  {
   "cell_type": "code",
   "execution_count": null,
   "metadata": {},
   "outputs": [],
   "source": [
    "pd.crosstab(df['PARTO + LACTANCIA'], df['CELIAQUIA '], margins=True, margins_name='Total')"
   ]
  },
  {
   "cell_type": "code",
   "execution_count": null,
   "metadata": {},
   "outputs": [],
   "source": [
    "pd.crosstab(df['PARTO + LACTANCIA'], df['CELIAQUIA '], normalize='index').round(2)"
   ]
  },
  {
   "cell_type": "code",
   "execution_count": null,
   "metadata": {},
   "outputs": [],
   "source": [
    "stats.chi2_contingency(pd.crosstab(df['PARTO + LACTANCIA'], df['CELIAQUIA ']))"
   ]
  },
  {
   "cell_type": "code",
   "execution_count": null,
   "metadata": {},
   "outputs": [],
   "source": [
    "sns.countplot(y='PARTO + LACTANCIA', hue='CELIAQUIA ', data=df)\n",
    "plt.xlabel('Núm. casos', size=16)\n",
    "plt.ylabel('Tipo de parto + Tiempo de lactancia', size=16)\n",
    "plt.legend(title='Enfermedad celíaca', loc='lower right')\n",
    "plt.show()"
   ]
  },
  {
   "cell_type": "markdown",
   "metadata": {},
   "source": [
    "#### Tipo de parto + tiempo de lactancia y artritis reumatoide"
   ]
  },
  {
   "cell_type": "code",
   "execution_count": null,
   "metadata": {},
   "outputs": [],
   "source": [
    "pd.crosstab(df['PARTO + LACTANCIA'], df['ARTRITIS'], margins=True, margins_name='Total')"
   ]
  },
  {
   "cell_type": "code",
   "execution_count": null,
   "metadata": {},
   "outputs": [],
   "source": [
    "pd.crosstab(df['PARTO + LACTANCIA'], df['ARTRITIS'], normalize='index').round(2)"
   ]
  },
  {
   "cell_type": "code",
   "execution_count": null,
   "metadata": {},
   "outputs": [],
   "source": [
    "stats.chi2_contingency(pd.crosstab(df['PARTO + LACTANCIA'], df['ARTRITIS']))"
   ]
  },
  {
   "cell_type": "code",
   "execution_count": null,
   "metadata": {},
   "outputs": [],
   "source": [
    "sns.countplot(y='PARTO + LACTANCIA', hue='ARTRITIS', data=df)\n",
    "plt.xlabel('Núm. casos', size=16)\n",
    "plt.ylabel('Tipo de parto + Tiempo de lactancia', size=16)\n",
    "plt.legend(title='Artritis reumatoide', loc='lower right')\n",
    "plt.show()"
   ]
  },
  {
   "cell_type": "markdown",
   "metadata": {},
   "source": [
    "### Adicional: Otras patologías asociadas"
   ]
  },
  {
   "cell_type": "markdown",
   "metadata": {},
   "source": [
    "#### Rinitis alérgica"
   ]
  },
  {
   "cell_type": "code",
   "execution_count": null,
   "metadata": {},
   "outputs": [],
   "source": [
    "df['RINITIS ALERGICA'].replace({np.nan:'No','SI ':'Sí'}, inplace=True)\n",
    "df['RINITIS ALERGICA'].value_counts(sort=False)"
   ]
  },
  {
   "cell_type": "code",
   "execution_count": null,
   "metadata": {},
   "outputs": [],
   "source": [
    "df['RINITIS ALERGICA'].value_counts(sort=False, normalize=True).round(2)"
   ]
  },
  {
   "cell_type": "code",
   "execution_count": null,
   "metadata": {},
   "outputs": [],
   "source": [
    "sns.countplot(x='RINITIS ALERGICA', data=df)\n",
    "plt.xlabel('Rinitis alérgica', size=16)\n",
    "plt.ylabel('Núm. casos', size=16)\n",
    "plt.show()"
   ]
  },
  {
   "cell_type": "code",
   "execution_count": null,
   "metadata": {},
   "outputs": [],
   "source": [
    "pd.crosstab(df['VIA DE NACIMIENTO'], df['RINITIS ALERGICA'], margins=True, margins_name='Total')"
   ]
  },
  {
   "cell_type": "code",
   "execution_count": null,
   "metadata": {},
   "outputs": [],
   "source": [
    "pd.crosstab(df['VIA DE NACIMIENTO'], df['RINITIS ALERGICA'], normalize='index').round(2)"
   ]
  },
  {
   "cell_type": "code",
   "execution_count": null,
   "metadata": {},
   "outputs": [],
   "source": [
    "stats.chi2_contingency(pd.crosstab(df['VIA DE NACIMIENTO'], df['RINITIS ALERGICA']))"
   ]
  },
  {
   "cell_type": "code",
   "execution_count": null,
   "metadata": {},
   "outputs": [],
   "source": [
    "sns.countplot(x='VIA DE NACIMIENTO', hue='RINITIS ALERGICA', data=df)\n",
    "plt.legend(title='Rinitis alérgica')\n",
    "plt.xlabel('Vía de nacimiento', size=16)\n",
    "plt.ylabel('Núm. casos', size=16)\n",
    "plt.show()"
   ]
  },
  {
   "cell_type": "code",
   "execution_count": null,
   "metadata": {},
   "outputs": [],
   "source": [
    "pd.crosstab(df['TIEMPO DE LACTANCIA '], df['RINITIS ALERGICA'], margins=True, margins_name='Total')"
   ]
  },
  {
   "cell_type": "code",
   "execution_count": null,
   "metadata": {},
   "outputs": [],
   "source": [
    "pd.crosstab(df['TIEMPO DE LACTANCIA '], df['RINITIS ALERGICA'], normalize='index').round(2)"
   ]
  },
  {
   "cell_type": "code",
   "execution_count": null,
   "metadata": {},
   "outputs": [],
   "source": [
    "stats.chi2_contingency(pd.crosstab(df['TIEMPO DE LACTANCIA '], df['RINITIS ALERGICA']))"
   ]
  },
  {
   "cell_type": "code",
   "execution_count": null,
   "metadata": {},
   "outputs": [],
   "source": [
    "sns.countplot(x='TIEMPO DE LACTANCIA ', hue='RINITIS ALERGICA', data=df)\n",
    "plt.legend(title='Rinitis alérgica')\n",
    "plt.xlabel('Tiempo de lactancia', size=16)\n",
    "plt.ylabel('Núm. casos', size=16)\n",
    "plt.show()"
   ]
  },
  {
   "cell_type": "code",
   "execution_count": null,
   "metadata": {},
   "outputs": [],
   "source": [
    "pd.crosstab(df['PARTO + LACTANCIA'], df['RINITIS ALERGICA'], margins=True, margins_name='Total')"
   ]
  },
  {
   "cell_type": "code",
   "execution_count": null,
   "metadata": {},
   "outputs": [],
   "source": [
    "pd.crosstab(df['PARTO + LACTANCIA'], df['RINITIS ALERGICA'], normalize='index').round(2)"
   ]
  },
  {
   "cell_type": "code",
   "execution_count": null,
   "metadata": {},
   "outputs": [],
   "source": [
    "stats.chi2_contingency(pd.crosstab(df['PARTO + LACTANCIA'], df['RINITIS ALERGICA']))"
   ]
  },
  {
   "cell_type": "code",
   "execution_count": null,
   "metadata": {},
   "outputs": [],
   "source": [
    "sns.countplot(y='PARTO + LACTANCIA', hue='RINITIS ALERGICA', data=df)\n",
    "plt.xlabel('Núm. casos', size=16)\n",
    "plt.ylabel('Tipo de parto + Tiempo de lactancia', size=16)\n",
    "plt.legend(title='Rinitis alérgica', loc='lower right')\n",
    "plt.show()"
   ]
  },
  {
   "cell_type": "markdown",
   "metadata": {},
   "source": [
    "#### Síndrome del intestino irritable"
   ]
  },
  {
   "cell_type": "code",
   "execution_count": null,
   "metadata": {},
   "outputs": [],
   "source": [
    "df['SII'].replace({np.nan:'No','SI ':'Sí'}, inplace=True)\n",
    "df['SII'].value_counts(sort=False)"
   ]
  },
  {
   "cell_type": "code",
   "execution_count": null,
   "metadata": {},
   "outputs": [],
   "source": [
    "df['SII'].value_counts(sort=False, normalize=True).round(2)"
   ]
  },
  {
   "cell_type": "code",
   "execution_count": null,
   "metadata": {},
   "outputs": [],
   "source": [
    "sns.countplot(x='SII', data=df)\n",
    "plt.xlabel('Síndrome del intestino irritable', size=16)\n",
    "plt.ylabel('Núm. casos', size=16)\n",
    "plt.show()"
   ]
  },
  {
   "cell_type": "code",
   "execution_count": null,
   "metadata": {},
   "outputs": [],
   "source": [
    "pd.crosstab(df['VIA DE NACIMIENTO'], df['SII'], margins=True, margins_name='Total')"
   ]
  },
  {
   "cell_type": "code",
   "execution_count": null,
   "metadata": {},
   "outputs": [],
   "source": [
    "pd.crosstab(df['VIA DE NACIMIENTO'], df['SII'], normalize='index').round(2)"
   ]
  },
  {
   "cell_type": "code",
   "execution_count": null,
   "metadata": {},
   "outputs": [],
   "source": [
    "stats.chi2_contingency(pd.crosstab(df['VIA DE NACIMIENTO'], df['SII']))"
   ]
  },
  {
   "cell_type": "code",
   "execution_count": null,
   "metadata": {},
   "outputs": [],
   "source": [
    "sns.countplot(x='VIA DE NACIMIENTO', hue='SII', data=df)\n",
    "plt.legend(title='Síndrome del intestino irritable')\n",
    "plt.xlabel('Vía de nacimiento', size=16)\n",
    "plt.ylabel('Núm. casos', size=16)\n",
    "plt.show()"
   ]
  },
  {
   "cell_type": "code",
   "execution_count": null,
   "metadata": {},
   "outputs": [],
   "source": [
    "pd.crosstab(df['TIEMPO DE LACTANCIA '], df['SII'], margins=True, margins_name='Total')"
   ]
  },
  {
   "cell_type": "code",
   "execution_count": null,
   "metadata": {},
   "outputs": [],
   "source": [
    "pd.crosstab(df['TIEMPO DE LACTANCIA '], df['SII'], normalize='index').round(2)"
   ]
  },
  {
   "cell_type": "code",
   "execution_count": null,
   "metadata": {},
   "outputs": [],
   "source": [
    "stats.chi2_contingency(pd.crosstab(df['TIEMPO DE LACTANCIA '], df['SII']))"
   ]
  },
  {
   "cell_type": "code",
   "execution_count": null,
   "metadata": {},
   "outputs": [],
   "source": [
    "sns.countplot(x='TIEMPO DE LACTANCIA ', hue='SII', data=df)\n",
    "plt.legend(title='Síndrome del intestino irritable')\n",
    "plt.xlabel('Tiempo de lactancia', size=16)\n",
    "plt.ylabel('Núm. casos', size=16)\n",
    "plt.show()"
   ]
  },
  {
   "cell_type": "code",
   "execution_count": null,
   "metadata": {},
   "outputs": [],
   "source": [
    "pd.crosstab(df['PARTO + LACTANCIA'], df['SII'], margins=True, margins_name='Total')"
   ]
  },
  {
   "cell_type": "code",
   "execution_count": null,
   "metadata": {},
   "outputs": [],
   "source": [
    "pd.crosstab(df['PARTO + LACTANCIA'], df['SII'], normalize='index').round(2)"
   ]
  },
  {
   "cell_type": "code",
   "execution_count": null,
   "metadata": {},
   "outputs": [],
   "source": [
    "stats.chi2_contingency(pd.crosstab(df['PARTO + LACTANCIA'], df['SII']))"
   ]
  },
  {
   "cell_type": "code",
   "execution_count": null,
   "metadata": {},
   "outputs": [],
   "source": [
    "sns.countplot(y='PARTO + LACTANCIA', hue='SII', data=df)\n",
    "plt.legend(title='Síndrome del intestino irritable')\n",
    "plt.ylabel('Tipo de parto + Tiempo de lactancia', size=16)\n",
    "plt.xlabel('Núm. casos', size=16)\n",
    "plt.show()"
   ]
  },
  {
   "cell_type": "markdown",
   "metadata": {},
   "source": [
    "#### Síndrome del ovario poliquístico"
   ]
  },
  {
   "cell_type": "code",
   "execution_count": null,
   "metadata": {},
   "outputs": [],
   "source": [
    "df['SOP'].replace({np.nan:'No','SI':'Sí'}, inplace=True)\n",
    "df['SOP'].value_counts(sort=False)"
   ]
  },
  {
   "cell_type": "code",
   "execution_count": null,
   "metadata": {},
   "outputs": [],
   "source": [
    "df['SOP'].value_counts(sort=False, normalize=True).round(2)"
   ]
  },
  {
   "cell_type": "code",
   "execution_count": null,
   "metadata": {},
   "outputs": [],
   "source": [
    "sns.countplot(x='SOP', data=df)\n",
    "plt.xlabel('Síndrome del ovario poliquístico', size=16)\n",
    "plt.ylabel('Núm. casos', size=16)\n",
    "plt.show()"
   ]
  },
  {
   "cell_type": "code",
   "execution_count": null,
   "metadata": {},
   "outputs": [],
   "source": [
    "pd.crosstab(df['VIA DE NACIMIENTO'], df['SOP'], margins=True, margins_name='Total')"
   ]
  },
  {
   "cell_type": "code",
   "execution_count": null,
   "metadata": {},
   "outputs": [],
   "source": [
    "pd.crosstab(df['VIA DE NACIMIENTO'], df['SOP'], normalize='index').round(2)"
   ]
  },
  {
   "cell_type": "code",
   "execution_count": null,
   "metadata": {},
   "outputs": [],
   "source": [
    "stats.chi2_contingency(pd.crosstab(df['VIA DE NACIMIENTO'], df['SOP']))"
   ]
  },
  {
   "cell_type": "code",
   "execution_count": null,
   "metadata": {},
   "outputs": [],
   "source": [
    "sns.countplot(x='VIA DE NACIMIENTO', hue='SOP', data=df)\n",
    "plt.legend(title='Síndrome del ovario poliquístico')\n",
    "plt.xlabel('Vía de nacimiento', size=16)\n",
    "plt.ylabel('Núm. casos', size=16)\n",
    "plt.show()"
   ]
  },
  {
   "cell_type": "code",
   "execution_count": null,
   "metadata": {},
   "outputs": [],
   "source": [
    "pd.crosstab(df['TIEMPO DE LACTANCIA '], df['SOP'], margins=True, margins_name='Total')"
   ]
  },
  {
   "cell_type": "code",
   "execution_count": null,
   "metadata": {},
   "outputs": [],
   "source": [
    "pd.crosstab(df['TIEMPO DE LACTANCIA '], df['SOP'], normalize='index').round(2)"
   ]
  },
  {
   "cell_type": "code",
   "execution_count": null,
   "metadata": {},
   "outputs": [],
   "source": [
    "stats.chi2_contingency(pd.crosstab(df['TIEMPO DE LACTANCIA '], df['SOP']))"
   ]
  },
  {
   "cell_type": "code",
   "execution_count": null,
   "metadata": {},
   "outputs": [],
   "source": [
    "sns.countplot(x='TIEMPO DE LACTANCIA ', hue='SOP', data=df)\n",
    "plt.legend(title='Síndrome del ovario poliquístico')\n",
    "plt.xlabel('Tiempo de lactancia', size=16)\n",
    "plt.ylabel('Núm. casos', size=16)\n",
    "plt.show()"
   ]
  },
  {
   "cell_type": "code",
   "execution_count": null,
   "metadata": {},
   "outputs": [],
   "source": [
    "pd.crosstab(df['PARTO + LACTANCIA'], df['SOP'], margins=True, margins_name='Total')"
   ]
  },
  {
   "cell_type": "code",
   "execution_count": null,
   "metadata": {},
   "outputs": [],
   "source": [
    "pd.crosstab(df['PARTO + LACTANCIA'], df['SOP'], normalize='index').round(2)"
   ]
  },
  {
   "cell_type": "code",
   "execution_count": null,
   "metadata": {},
   "outputs": [],
   "source": [
    "stats.chi2_contingency(pd.crosstab(df['PARTO + LACTANCIA'], df['SOP']))"
   ]
  },
  {
   "cell_type": "code",
   "execution_count": null,
   "metadata": {},
   "outputs": [],
   "source": [
    "sns.countplot(y='PARTO + LACTANCIA', hue='SOP', data=df)\n",
    "plt.legend(title='Síndrome del ovario poliquístico')\n",
    "plt.ylabel('Tipo de parto + Tiempo de lactancia', size=16)\n",
    "plt.xlabel('Núm. casos', size=16)\n",
    "plt.show()"
   ]
  }
 ],
 "metadata": {
  "kernelspec": {
   "display_name": "Python 3",
   "language": "python",
   "name": "python3"
  },
  "language_info": {
   "codemirror_mode": {
    "name": "ipython",
    "version": 3
   },
   "file_extension": ".py",
   "mimetype": "text/x-python",
   "name": "python",
   "nbconvert_exporter": "python",
   "pygments_lexer": "ipython3",
   "version": "3.8.8"
  },
  "toc-autonumbering": false,
  "toc-showcode": false,
  "toc-showmarkdowntxt": false,
  "toc-showtags": false
 },
 "nbformat": 4,
 "nbformat_minor": 4
}
